{
 "cells": [
  {
   "cell_type": "code",
   "execution_count": 1,
   "id": "e3bf8c1f",
   "metadata": {},
   "outputs": [
    {
     "data": {
      "text/plain": [
       "True"
      ]
     },
     "execution_count": 1,
     "metadata": {},
     "output_type": "execute_result"
    }
   ],
   "source": [
    "from dotenv import load_dotenv\n",
    "from langchain_community.vectorstores import SupabaseVectorStore\n",
    "from supabase.client import create_client\n",
    "\n",
    "from langchain_ollama import OllamaEmbeddings\n",
    "\n",
    "from db_schema_builder import SchemaDocumentBuilder\n",
    "from db_schema_extractor import DatabaseSchemaExtractor\n",
    "\n",
    "from langchain_core.runnables import RunnablePassthrough, RunnableSequence\n",
    "from langchain_core.output_parsers import StrOutputParser\n",
    "from langchain.prompts import ChatPromptTemplate, MessagesPlaceholder\n",
    "from langchain.prompts import PromptTemplate\n",
    "from langchain.chains import LLMChain\n",
    "from langchain_community.utilities import SQLDatabase\n",
    "from langchain.chains import RetrievalQAWithSourcesChain, RetrievalQA\n",
    "from supabase import create_client, Client\n",
    "from langchain_openai import ChatOpenAI\n",
    "from os import getenv\n",
    "from pprint import pprint\n",
    "\n",
    "import json\n",
    "\n",
    "load_dotenv()"
   ]
  },
  {
   "cell_type": "code",
   "execution_count": null,
   "id": "919548c0",
   "metadata": {},
   "outputs": [],
   "source": [
    "import requests\n",
    "import json\n",
    "\n",
    "response = requests.get(\n",
    "    url=\"https://openrouter.ai/api/v1/key\",\n",
    "    headers={\"Authorization\": f\"Bearer {getenv(\"OPENROUTER_API_KEY\")}\"},\n",
    ")\n",
    "print(json.dumps(response.json(), indent=2))"
   ]
  },
  {
   "cell_type": "code",
   "execution_count": 2,
   "id": "e8653f4b",
   "metadata": {},
   "outputs": [
    {
     "name": "stdout",
     "output_type": "stream",
     "text": [
      "Извлечено таблиц: 9\n"
     ]
    }
   ],
   "source": [
    "db = SQLDatabase.from_uri(getenv(\"SUPABASE_URI\"))\n",
    "extractor = DatabaseSchemaExtractor(db)\n",
    "\n",
    "schema_data = extractor.get_schemas()\n",
    "\n",
    "print(f\"Извлечено таблиц: {len(schema_data)}\")"
   ]
  },
  {
   "cell_type": "code",
   "execution_count": null,
   "id": "66196403",
   "metadata": {},
   "outputs": [
    {
     "data": {
      "text/plain": [
       "{'text': 'This dataset has information about the customer and its location. Use it to identify unique customers in the orders dataset and to find the orders delivery location.  At our system each order is assigned to a unique customer_id. This means that the same customer will get different ids for different orders. The purpose of having a customer_unique_id on the dataset is to allow you to identify customers that made repurchases at the store. Otherwise you would find that each order had a different customer associated with.'}"
      ]
     },
     "execution_count": 8,
     "metadata": {},
     "output_type": "execute_result"
    }
   ],
   "source": [
    "db._inspector.get_ta"
   ]
  },
  {
   "cell_type": "code",
   "execution_count": 7,
   "id": "51dd89d7",
   "metadata": {},
   "outputs": [
    {
     "name": "stdout",
     "output_type": "stream",
     "text": [
      "Чанков: 42\n"
     ]
    }
   ],
   "source": [
    "chunks = extractor.split_schemas_to_chunks(schema_data, chunk_size=600)\n",
    "print(f\"Чанков: {len(chunks)}\")\n",
    "\n",
    "with open(\"chunks.json\", \"w\", encoding=\"utf-8\") as f:\n",
    "    json.dump(chunks, f, ensure_ascii=False, indent=4)"
   ]
  },
  {
   "cell_type": "code",
   "execution_count": 7,
   "id": "7440eb98",
   "metadata": {},
   "outputs": [
    {
     "name": "stdout",
     "output_type": "stream",
     "text": [
      "Создано документов: 9\n"
     ]
    }
   ],
   "source": [
    "builder = SchemaDocumentBuilder()\n",
    "documents = builder.create_documents(schema_data)\n",
    "print(f\"Создано документов: {len(documents)}\")\n",
    "\n",
    "with open(\"docs.json\", \"w\", encoding=\"utf-8\") as f:\n",
    "    json.dump(chunks, f, ensure_ascii=False, indent=4)"
   ]
  },
  {
   "cell_type": "code",
   "execution_count": 28,
   "id": "24bcdc07",
   "metadata": {},
   "outputs": [],
   "source": [
    "embeddings = OllamaEmbeddings(\n",
    "    model=\"dengcao/Qwen3-Embedding-0.6B:Q8_0\", base_url=\"http://localhost:11434\"\n",
    ")"
   ]
  },
  {
   "cell_type": "code",
   "execution_count": null,
   "id": "a1b8b51f",
   "metadata": {},
   "outputs": [
    {
     "name": "stdout",
     "output_type": "stream",
     "text": [
      "✅ Vector store setup completed for table: schema_embeddings_qwen06b\n"
     ]
    }
   ],
   "source": [
    "table_name = \"schema_embeddings_qwen06b\"\n",
    "\n",
    "supabase_client = create_client(\n",
    "    supabase_url=getenv(\"SUPABASE_URL\"), supabase_key=getenv(\"SUPABASE_KEY\")\n",
    ")\n",
    "\n",
    "\n",
    "vector_store = SupabaseVectorStore(\n",
    "    client=supabase_client,\n",
    "    embedding=embeddings,\n",
    "    table_name=table_name,\n",
    "    query_name=\"match_documents\",\n",
    ")\n",
    "\n",
    "\n",
    "print(f\"✅ Vector store setup completed for table: {table_name}\")"
   ]
  },
  {
   "cell_type": "code",
   "execution_count": 30,
   "id": "ee44d699",
   "metadata": {},
   "outputs": [
    {
     "data": {
      "text/plain": [
       "['9b2b1016-3e86-4b21-b59a-bc48cd6d9648',\n",
       " '141de0f4-411c-4a19-92ce-cd85d4956706',\n",
       " 'a05543ba-8f0e-41f3-8549-d27068269887',\n",
       " 'a36f654c-1d6e-4213-940a-ed73fe2bfaf4',\n",
       " '472971ab-521f-4096-bad3-9b372a338568',\n",
       " 'fe7bdf36-fad3-47a2-a484-7097b2c30cb8',\n",
       " '260ffc2f-b636-4091-abe4-316657307cd4',\n",
       " '43cf2ad4-5bd3-4e96-afe1-435e10b4622d',\n",
       " 'b604520e-7a09-4628-9128-5b019c6a1002']"
      ]
     },
     "execution_count": 30,
     "metadata": {},
     "output_type": "execute_result"
    }
   ],
   "source": [
    "vector_store.add_documents(documents)"
   ]
  },
  {
   "cell_type": "code",
   "execution_count": null,
   "id": "61ffc74f",
   "metadata": {},
   "outputs": [],
   "source": []
  },
  {
   "cell_type": "code",
   "execution_count": null,
   "id": "026d95f9",
   "metadata": {},
   "outputs": [],
   "source": []
  },
  {
   "cell_type": "code",
   "execution_count": null,
   "id": "7b13a76c",
   "metadata": {},
   "outputs": [],
   "source": []
  },
  {
   "cell_type": "code",
   "execution_count": null,
   "id": "07e2f4dc",
   "metadata": {},
   "outputs": [],
   "source": []
  },
  {
   "cell_type": "code",
   "execution_count": null,
   "id": "cd650651",
   "metadata": {},
   "outputs": [
    {
     "name": "stdout",
     "output_type": "stream",
     "text": [
      "* [SIM=0.445] [geolocation]\n",
      "\n",
      "* [SIM=0.405] [customers]\n",
      "\n",
      "* [SIM=0.377] [sellers]\n",
      "\n",
      "* [SIM=0.374] [category_name_translation]\n",
      "\n",
      "* [SIM=0.360] [products]\n",
      "\n"
     ]
    }
   ],
   "source": [
    "# Фильтр — словарь (аналог JS-объекта)\n",
    "filter = {\"source\": \"https://example.com\"}\n",
    "\n",
    "# Поиск топ-2 документов по запросу \"biology\"\n",
    "# Поиск с возвратом документов и их score\n",
    "similarity_search_with_score_results = (\n",
    "    vector_store.similarity_search_with_relevance_scores(\n",
    "        \"местоположение покупателей\", k=5\n",
    "    )\n",
    ")\n",
    "\n",
    "# Вывод результатов\n",
    "for doc, score in similarity_search_with_score_results:\n",
    "    print(f\"* [SIM={score:.3f}] [{doc.metadata.get('table_name')}]\\n\")"
   ]
  },
  {
   "cell_type": "code",
   "execution_count": 147,
   "id": "54a3df59",
   "metadata": {},
   "outputs": [
    {
     "name": "stderr",
     "output_type": "stream",
     "text": [
      "d:\\Repos\\AI Agent\\.venv\\Lib\\site-packages\\langchain_community\\utilities\\sql_database.py:134: SAWarning: Did not recognize type 'vector' of column 'embedding'\n",
      "  self._metadata.reflect(\n"
     ]
    }
   ],
   "source": [
    "MODEL_NAME = \"mistralai/mistral-small-3.1-24b-instruct\"\n",
    "db = SQLDatabase.from_uri(getenv(\"SUPABASE_URI\"))\n",
    "retriever = vector_store.as_retriever(search_type=\"similarity\", search_kwargs={\"k\": 6})\n",
    "\n",
    "llm = ChatOpenAI(\n",
    "    model=MODEL_NAME,\n",
    "    api_key=getenv(\"OPENROUTER_API_KEY\"),\n",
    "    base_url=getenv(\"OPENROUTER_API_URL\"),\n",
    "    temperature=0,\n",
    ")"
   ]
  },
  {
   "cell_type": "code",
   "execution_count": null,
   "id": "87a351cb",
   "metadata": {},
   "outputs": [
    {
     "name": "stdout",
     "output_type": "stream",
     "text": [
      "category_name_translation\n",
      "customers\n",
      "geolocation\n",
      "products\n",
      "sellers\n",
      "orders\n"
     ]
    }
   ],
   "source": [
    "query = \"order_id\"\n",
    "\n",
    "docs = retriever.get_relevant_documents(query)\n",
    "for doc in docs:\n",
    "    print(doc.metadata.get(\"table_name\"))"
   ]
  },
  {
   "cell_type": "code",
   "execution_count": 117,
   "id": "6d18c9e2",
   "metadata": {},
   "outputs": [],
   "source": [
    "# 2️⃣ Переписываем запрос для поиска\n",
    "query_rewrite_prompt = PromptTemplate(\n",
    "    input_variables=[\"user_query\"],\n",
    "    template=\"\"\"\n",
    "        Ты выполняешь функцию генерации поискового запроса для RAG поиска в базе данных.\n",
    "        Из исходного вопроса нужно сформировать **короткую строку ключевых слов**, подходящую для поиска по содержимому таблиц и колонок.\n",
    "        Не добавляй объяснений, описаний, таблиц и колонок — только ключевые слова.\n",
    "        Сделай запрос максимально коротким и ёмким.\n",
    "\n",
    "        Вопрос: {user_query}\n",
    "        Поисковый запрос:\n",
    "        \"\"\",\n",
    ")\n",
    "query_rewriter = query_rewrite_prompt | llm"
   ]
  },
  {
   "cell_type": "code",
   "execution_count": 118,
   "id": "ac173c78",
   "metadata": {},
   "outputs": [],
   "source": [
    "# 3️⃣ Пользовательский запрос\n",
    "user_query = (\n",
    "    \"С какими внешними ключами и как связаны столбцы таблицы orders? Ответь на русском\"\n",
    ")"
   ]
  },
  {
   "cell_type": "code",
   "execution_count": 119,
   "id": "938cf349",
   "metadata": {},
   "outputs": [],
   "source": [
    "# 4️⃣ Переписываем и ищем документы\n",
    "rag_query_result = query_rewriter.invoke({\"user_query\": user_query})\n",
    "rag_query = rag_query_result.content  # получить строку из объекта AIMessage\n",
    "docs = retriever.get_relevant_documents(rag_query)"
   ]
  },
  {
   "cell_type": "code",
   "execution_count": 112,
   "id": "2d7389eb",
   "metadata": {},
   "outputs": [],
   "source": [
    "# 5️⃣ Собираем контекст\n",
    "context_text = \"\\n\\n\".join([doc.page_content for doc in docs])"
   ]
  },
  {
   "cell_type": "code",
   "execution_count": null,
   "id": "e78f5488",
   "metadata": {},
   "outputs": [],
   "source": [
    "# 6️⃣ Формируем ответ LLM с учётом контекста\n",
    "answer_prompt = PromptTemplate(\n",
    "    input_variables=[\"question\", \"context\"],\n",
    "    template=\"Используй контекст для ответа на вопрос.\\n\\nКонтекст:\\n{context}\\n\\nВопрос:\\n{question}\\n\\nОтветь подробно на русском.\",\n",
    ")\n",
    "chain = LLMChain(llm=llm, prompt=answer_prompt)\n",
    "answer = chain.run({\"question\": user_query, \"context\": context_text})\n",
    "\n",
    "print(\"Ответ:\\n\", answer)"
   ]
  },
  {
   "cell_type": "code",
   "execution_count": null,
   "id": "ba8ef16d",
   "metadata": {},
   "outputs": [],
   "source": []
  }
 ],
 "metadata": {
  "kernelspec": {
   "display_name": ".venv",
   "language": "python",
   "name": "python3"
  },
  "language_info": {
   "codemirror_mode": {
    "name": "ipython",
    "version": 3
   },
   "file_extension": ".py",
   "mimetype": "text/x-python",
   "name": "python",
   "nbconvert_exporter": "python",
   "pygments_lexer": "ipython3",
   "version": "3.13.0"
  }
 },
 "nbformat": 4,
 "nbformat_minor": 5
}
