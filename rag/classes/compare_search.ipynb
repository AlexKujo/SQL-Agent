{
 "cells": [
  {
   "cell_type": "code",
   "execution_count": 4,
   "id": "43c4c734",
   "metadata": {},
   "outputs": [
    {
     "data": {
      "text/plain": [
       "True"
      ]
     },
     "execution_count": 4,
     "metadata": {},
     "output_type": "execute_result"
    }
   ],
   "source": [
    "from dotenv import load_dotenv\n",
    "from langchain_community.vectorstores import SupabaseVectorStore\n",
    "from langchain_ollama import OllamaEmbeddings\n",
    "from supabase import create_client\n",
    "from os import getenv\n",
    "\n",
    "load_dotenv()"
   ]
  },
  {
   "cell_type": "code",
   "execution_count": 12,
   "id": "94859c58",
   "metadata": {},
   "outputs": [],
   "source": [
    "# Создание клиента Supabase\n",
    "supabase_client = create_client(\n",
    "    supabase_url=getenv(\"SUPABASE_URL\"), supabase_key=getenv(\"SUPABASE_KEY\")\n",
    ")"
   ]
  },
  {
   "cell_type": "code",
   "execution_count": 13,
   "id": "5917f7cb",
   "metadata": {},
   "outputs": [],
   "source": [
    "embeddings_nomic = OllamaEmbeddings(\n",
    "    model=\"nomic-embed-text\", base_url=\"http://localhost:11434\"\n",
    ")\n",
    "\n",
    "embeddings_gemma = OllamaEmbeddings(\n",
    "    model=\"embeddinggemma\", base_url=\"http://localhost:11434\"\n",
    ")\n",
    "\n",
    "embeddings_qwen = OllamaEmbeddings(\n",
    "    model=\"dengcao/Qwen3-Embedding-0.6B:Q8_0\", base_url=\"http://localhost:11434\"\n",
    ")"
   ]
  },
  {
   "cell_type": "code",
   "execution_count": 14,
   "id": "31711084",
   "metadata": {},
   "outputs": [],
   "source": [
    "# Создание vector stores для каждой таблицы с соответствующими эмбеддингами\n",
    "vs1 = SupabaseVectorStore(\n",
    "    client=supabase_client,\n",
    "    embedding=embeddings_nomic,\n",
    "    table_name=\"schema_embeddings_nomic\",\n",
    "    query_name=\"match_documents_nomic\",\n",
    ")\n",
    "\n",
    "vs2 = SupabaseVectorStore(\n",
    "    client=supabase_client,\n",
    "    embedding=embeddings_gemma,\n",
    "    table_name=\"schema_embeddings_gemma\",\n",
    "    query_name=\"match_documents_gemma\",\n",
    ")\n",
    "\n",
    "vs3 = SupabaseVectorStore(\n",
    "    client=supabase_client,\n",
    "    embedding=embeddings_qwen,\n",
    "    table_name=\"schema_embeddings_qwen06b\",\n",
    "    query_name=\"match_documents_qwen\",\n",
    ")"
   ]
  },
  {
   "cell_type": "code",
   "execution_count": 38,
   "id": "0da92716",
   "metadata": {},
   "outputs": [
    {
     "name": "stdout",
     "output_type": "stream",
     "text": [
      "\n",
      "=== Результаты для таблицы nomic ===\n",
      "Score: 0.7454 | Content: sellers\n",
      "Score: 0.6946 | Content: order_reviews\n",
      "Score: 0.6903 | Content: customers\n",
      "Score: 0.6803 | Content: products\n",
      "Score: 0.6756 | Content: order_payments\n",
      "\n",
      "=== Результаты для таблицы gemma ===\n",
      "Score: 0.4966 | Content: customers\n",
      "Score: 0.4507 | Content: sellers\n",
      "Score: 0.4336 | Content: category_name_translation\n",
      "Score: 0.4009 | Content: products\n",
      "Score: 0.3804 | Content: geolocation\n",
      "\n",
      "=== Результаты для таблицы qwen_06B ===\n",
      "Score: 0.5255 | Content: sellers\n",
      "Score: 0.4105 | Content: orders\n",
      "Score: 0.3913 | Content: customers\n",
      "Score: 0.3902 | Content: order_items\n",
      "Score: 0.3757 | Content: category_name_translation\n"
     ]
    }
   ],
   "source": [
    "vector_stores = {\n",
    "    \"nomic\": vs1,\n",
    "    \"gemma\": vs2,\n",
    "    \"qwen_06B\": vs3,  # добавь свои таблицы сюда\n",
    "}\n",
    "\n",
    "query = \"tables with informations of all customers and sellers\"\n",
    "k = 5\n",
    "\n",
    "for name, vs in vector_stores.items():\n",
    "    results = vs.similarity_search_with_relevance_scores(query, k=k)\n",
    "    print(f\"\\n=== Результаты для таблицы {name} ===\")\n",
    "    for doc, score in results:\n",
    "        print(f\"Score: {score:.4f} | Content: {doc.metadata.get(\"table_name\")}\")"
   ]
  }
 ],
 "metadata": {
  "kernelspec": {
   "display_name": ".venv",
   "language": "python",
   "name": "python3"
  },
  "language_info": {
   "codemirror_mode": {
    "name": "ipython",
    "version": 3
   },
   "file_extension": ".py",
   "mimetype": "text/x-python",
   "name": "python",
   "nbconvert_exporter": "python",
   "pygments_lexer": "ipython3",
   "version": "3.13.0"
  }
 },
 "nbformat": 4,
 "nbformat_minor": 5
}
